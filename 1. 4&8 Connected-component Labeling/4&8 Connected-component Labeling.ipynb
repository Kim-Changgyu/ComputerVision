{
  "cells": [
    {
      "cell_type": "markdown",
      "metadata": {
        "id": "fXQJSTk928SW"
      },
      "source": [
        "Python 버전 확인"
      ]
    },
    {
      "cell_type": "code",
      "execution_count": 1,
      "metadata": {
        "colab": {
          "base_uri": "https://localhost:8080/"
        },
        "id": "cEvYjzu826Bk",
        "outputId": "0e25a31b-75ca-4616-e8ff-23a52deecc88"
      },
      "outputs": [
        {
          "output_type": "stream",
          "name": "stdout",
          "text": [
            "Python 3.7.12\n"
          ]
        }
      ],
      "source": [
        "!python --version"
      ]
    },
    {
      "cell_type": "code",
      "execution_count": 2,
      "metadata": {
        "colab": {
          "base_uri": "https://localhost:8080/",
          "height": 35
        },
        "id": "qRTjP_FB3Ek8",
        "outputId": "3c3a6f80-525d-4d99-ad6f-76b50e6ce82f"
      },
      "outputs": [
        {
          "output_type": "execute_result",
          "data": {
            "application/vnd.google.colaboratory.intrinsic+json": {
              "type": "string"
            },
            "text/plain": [
              "'4.1.2'"
            ]
          },
          "metadata": {},
          "execution_count": 2
        }
      ],
      "source": [
        "import numpy as np\n",
        "import cv2\n",
        "import matplotlib.pyplot as plt\n",
        "cv2.__version__"
      ]
    },
    {
      "cell_type": "markdown",
      "metadata": {
        "id": "aLOemSdg4OZI"
      },
      "source": [
        "이미지 다운로드"
      ]
    },
    {
      "cell_type": "code",
      "execution_count": 3,
      "metadata": {
        "colab": {
          "base_uri": "https://localhost:8080/"
        },
        "id": "uz8ywQqn4Ppd",
        "outputId": "0780a1c5-9231-43c5-a3a3-1f4cb582393c"
      },
      "outputs": [
        {
          "output_type": "stream",
          "name": "stdout",
          "text": [
            "--2021-12-14 20:23:13--  https://i.imgur.com/iWGMlJR.png\n",
            "Resolving i.imgur.com (i.imgur.com)... 151.101.52.193\n",
            "Connecting to i.imgur.com (i.imgur.com)|151.101.52.193|:443... connected.\n",
            "HTTP request sent, awaiting response... 200 OK\n",
            "Length: 491 [image/png]\n",
            "Saving to: ‘iWGMlJR.png’\n",
            "\n",
            "\riWGMlJR.png           0%[                    ]       0  --.-KB/s               \riWGMlJR.png         100%[===================>]     491  --.-KB/s    in 0s      \n",
            "\n",
            "2021-12-14 20:23:13 (26.8 MB/s) - ‘iWGMlJR.png’ saved [491/491]\n",
            "\n"
          ]
        }
      ],
      "source": [
        "!wget https://i.imgur.com/iWGMlJR.png\n",
        "!mv iWGMlJR.png sample.png"
      ]
    },
    {
      "cell_type": "code",
      "execution_count": 4,
      "metadata": {
        "colab": {
          "base_uri": "https://localhost:8080/",
          "height": 261
        },
        "id": "SWbAraUu4Tvj",
        "outputId": "ba54e7a4-a823-46a0-82c7-b91389672565"
      },
      "outputs": [
        {
          "output_type": "display_data",
          "data": {
            "image/png": "[encoded data removed]",
            "text/plain": [
              "<Figure size 432x288 with 1 Axes>"
            ]
          },
          "metadata": {
            "needs_background": "light"
          }
        }
      ],
      "source": [
        "img = cv2.imread('sample.png')\n",
        "\n",
        "# image 출력\n",
        "plt.imshow(img)\n",
        "plt.show()"
      ]
    },
    {
      "cell_type": "markdown",
      "metadata": {
        "id": "lfzdRBGd3Sph"
      },
      "source": [
        "## 4연결성과 8연결성 라벨링 출력 예시\n",
        "### 숫자로 표시\n",
        "![alt text](https://i.imgur.com/lQ9nXox.png)\n",
        "### 색상으로 표시\n",
        "![alt text](https://i.imgur.com/91M3MwP.png)"
      ]
    },
    {
      "cell_type": "markdown",
      "metadata": {
        "id": "1UOtF5SA3Y5R"
      },
      "source": [
        "# 4연결성 라벨링\n",
        "\n",
        "- 위의 4연결성(4-neighbors) 라벨링과 같이 숫자 또는 색을 이용하여 라벨링\n",
        "- 연결된 픽셀은 같은 숫자 또는 같은 색을 가짐"
      ]
    },
    {
      "cell_type": "code",
      "execution_count": 7,
      "metadata": {
        "id": "8f7B9imX3xfd"
      },
      "outputs": [],
      "source": [
        "def four_connect(img):\n",
        "  def flood_fill(img, i, j, label):\n",
        "    if img[i][j][0] == img[i][j][1] == img[i][j][2] == 255:\n",
        "      img[i][j] = label\n",
        "      flood_fill(img, i-1, j, label)  # N\n",
        "      flood_fill(img, i, j+1, label)  # E\n",
        "      flood_fill(img, i+1, j, label)  # S\n",
        "      flood_fill(img, i, j-1, label)  # W\n",
        "\n",
        "  height, width, channel = img.shape\n",
        "  # 함수 작성\n",
        "  for i in range(1, height-1):\n",
        "    for j in range(1, width-1):\n",
        "      if img[i][j][0] == img[i][j][1] == img[i][j][2] == 255:\n",
        "        label = np.array([np.random.randint(255), np.random.randint(255), np.random.randint(255)])\n",
        "        flood_fill(img, i, j, label)\n",
        "\n",
        "  return img"
      ]
    },
    {
      "cell_type": "code",
      "execution_count": 8,
      "metadata": {
        "colab": {
          "base_uri": "https://localhost:8080/",
          "height": 244
        },
        "id": "YwNzK5Lk3mA9",
        "outputId": "9f3969d9-d16e-4702-f0ba-f98c13153b50"
      },
      "outputs": [
        {
          "output_type": "display_data",
          "data": {
            "image/png": "[encoded data removed]",
            "text/plain": [
              "<Figure size 432x288 with 1 Axes>"
            ]
          },
          "metadata": {}
        }
      ],
      "source": [
        "img = cv2.imread('sample.png')\n",
        "\n",
        "labeled_img = four_connect(img)\n",
        "\n",
        "# image 출력\n",
        "plt.imshow(labeled_img)\n",
        "plt.grid(None)   \n",
        "plt.xticks([])\n",
        "plt.yticks([])\n",
        "plt.show()"
      ]
    },
    {
      "cell_type": "markdown",
      "metadata": {
        "id": "syUc3zn33_Gn"
      },
      "source": [
        "# 8연결성 라벨링\n",
        "- 위의 8연결성(8-neighbors) 라벨링과 같이 숫자 또는 색을 이용하여 라벨링\n",
        "- 연결된 픽셀은 같은 숫자 또는 같은 색을 가짐"
      ]
    },
    {
      "cell_type": "code",
      "execution_count": 11,
      "metadata": {
        "id": "UK1btumy4FXp"
      },
      "outputs": [],
      "source": [
        "def eight_connect(img):\n",
        "  def flood_fill(img, i, j, label):\n",
        "    if img[i][j][0] == img[i][j][1] == img[i][j][2] == 255:\n",
        "      img[i][j] = label\n",
        "      for x in range(-1, 2):\n",
        "        for y in range(-1, 2):\n",
        "          flood_fill(img, i+x, j+y, label) # N, NW, NE, E, S, SW, SE, W\n",
        "\n",
        "  height, width, channel = img.shape\n",
        "  # 함수 작성\n",
        "  for i in range(1, height-1):\n",
        "    for j in range(1, width-1):\n",
        "      if img[i][j][0] == img[i][j][1] == img[i][j][2] == 255:\n",
        "        label = np.array([np.random.randint(255), np.random.randint(255), np.random.randint(255)])\n",
        "        flood_fill(img, i, j, label)\n",
        "\n",
        "  return img"
      ]
    },
    {
      "cell_type": "code",
      "execution_count": 12,
      "metadata": {
        "colab": {
          "base_uri": "https://localhost:8080/",
          "height": 244
        },
        "id": "-65ea1Kx4JND",
        "outputId": "350a003e-a8b6-409c-c37f-7a9f377c16be"
      },
      "outputs": [
        {
          "output_type": "display_data",
          "data": {
            "image/png": "[encoded data removed]",
            "text/plain": [
              "<Figure size 432x288 with 1 Axes>"
            ]
          },
          "metadata": {}
        }
      ],
      "source": [
        "img = cv2.imread('sample.png')\n",
        "\n",
        "labeled_img = eight_connect(img)\n",
        "\n",
        "# image 출력\n",
        "plt.imshow(labeled_img)\n",
        "plt.grid(None)   \n",
        "plt.xticks([])\n",
        "plt.yticks([])\n",
        "plt.show()"
      ]
    }
  ],
  "metadata": {
    "colab": {
      "collapsed_sections": [],
      "name": "20162347.ipynb",
      "provenance": []
    },
    "kernelspec": {
      "display_name": "Python 3",
      "name": "python3"
    },
    "language_info": {
      "name": "python"
    }
  },
  "nbformat": 4,
  "nbformat_minor": 0
}